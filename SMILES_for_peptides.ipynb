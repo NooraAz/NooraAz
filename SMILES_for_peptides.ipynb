{
  "nbformat": 4,
  "nbformat_minor": 0,
  "metadata": {
    "colab": {
      "provenance": [],
      "authorship_tag": "ABX9TyMhL/gmSWNjHHFPwCSEEtfg",
      "include_colab_link": true
    },
    "kernelspec": {
      "name": "python3",
      "display_name": "Python 3"
    },
    "language_info": {
      "name": "python"
    }
  },
  "cells": [
    {
      "cell_type": "markdown",
      "metadata": {
        "id": "view-in-github",
        "colab_type": "text"
      },
      "source": [
        "<a href=\"https://colab.research.google.com/github/NooraAz/NooraAz/blob/main/SMILES_for_peptides.ipynb\" target=\"_parent\"><img src=\"https://colab.research.google.com/assets/colab-badge.svg\" alt=\"Open In Colab\"/></a>"
      ]
    },
    {
      "cell_type": "code",
      "execution_count": 13,
      "metadata": {
        "cellView": "form",
        "id": "6dThs8Ey76f7"
      },
      "outputs": [],
      "source": [
        "#@markdown Initiating the code\n",
        "\n",
        "'''\n",
        "The SMILES notations for each aminoacid\n",
        "are taken from this database:\n",
        "https://biochemia.uwm.edu.pl/en/biopep-uwm-2/\n",
        "'''\n",
        "\n",
        "\n",
        "smiles_aa = {\n",
        "\n",
        "    'N-ter-cyclic': 'N1C',\n",
        "    'Nmethyl-cyclic': 'CN1C',\n",
        "\n",
        "    'N-ter':'NC',\n",
        "    'Nmethyl':'N(C)C',\n",
        "\n",
        "    'G':'',\n",
        "\n",
        "    'P':'NXC(CCCX)',\n",
        "\n",
        "    'A':'(C)',\n",
        "    'C':'(CS)',\n",
        "    'D':'(CC(=O)O)',\n",
        "    'E':'(CCC(=O)O)',\n",
        "    'F':'(CCX=CC=C(C=CX))',\n",
        "    'H':'(CCX=CN=C[NH]X)',\n",
        "    'I':'(C(CC)C)',\n",
        "    'K':'(CCCCN)',\n",
        "    'L':'(CC(C)C)',\n",
        "    'M':'(CCSC)',\n",
        "    'N':'(CC(=O)N)',\n",
        "    'Q':'(CCC(=O)N)',\n",
        "    'R':'(CCCNC(=N)N)',\n",
        "    'S':'(CO)',\n",
        "    'T':'(C(O)C)',\n",
        "    'V':'(C(C)C)',\n",
        "#     'W':'(CCX=CNCZ=CC=CC=CXZ)',\n",
        "#     'W':'(CC(=CNX)CZ=CZC=CC=CX)',\n",
        "    'W':'(Cc(c[nH]X)cZcXccccZ)',\n",
        "#     'Y':'(CCX=CC=C(C=CX)O)',\n",
        "    'Y':'(CcXccc(O)ccX)',\n",
        "    'C-ter' : 'C(=O)',\n",
        "    'C-ter-cyclic' : 'C1(=O)',\n",
        "    'C-ter-noncyclic':'C(=O)O'\n",
        "\n",
        "}\n",
        "\n",
        "def peptide_smiles(seq,n_positions,cyclic=False):\n",
        "\n",
        "    smiles_notation = []\n",
        "\n",
        "    x = 2\n",
        "\n",
        "    for index,r in enumerate(seq):\n",
        "        if index in n_positions :\n",
        "            smiles_notation.append(smiles_aa['Nmethyl'])\n",
        "        elif r == 'P':\n",
        "            smiles_notation.append('')\n",
        "        else:\n",
        "            smiles_notation.append(smiles_aa['N-ter'])\n",
        "\n",
        "        r_notation = smiles_aa[r]\n",
        "\n",
        "        if r in ['P','Y','F','W']:\n",
        "            r_notation = r_notation.replace('X',str(x))\n",
        "            x += 1\n",
        "\n",
        "        if r == 'W':\n",
        "            r_notation = r_notation.replace('Z',str(x))\n",
        "            x += 1\n",
        "\n",
        "        smiles_notation.append(r_notation)\n",
        "        smiles_notation.append(smiles_aa['C-ter'])\n",
        "\n",
        "\n",
        "    if cyclic:\n",
        "        if 1 in n_positions:\n",
        "            smiles_notation[0] = smiles_aa['Nmethyl-cyclic']\n",
        "        else:\n",
        "            smiles_notation[0] = smiles_aa['N-ter-cyclic']\n",
        "\n",
        "        smiles_notation[-1] = smiles_aa['C-ter-cyclic']\n",
        "    else:\n",
        "        smiles_notation[-1] = smiles_aa['C-ter-noncyclic']\n",
        "\n",
        "    return ''.join(smiles_notation)\n",
        "\n",
        "\n",
        ""
      ]
    },
    {
      "cell_type": "code",
      "source": [
        "#@markdown Write your peptide sequence here\n",
        "\n",
        "sequence = 'AILR' #@param {type:\"string\"}\n",
        "sequence = sequence.upper()\n",
        "\n",
        "#@markdown Check if it is cyclic\n",
        "head_to_tail_cyclic = True #@param {type:\"boolean\"}\n",
        "\n",
        "#@markdown Write n-methylated positions comma seperated (starts with 1) [e.g. 1,2,5]\n",
        "n_methylation_positions = '1,2' #@param {type:\"string\"}\n",
        "n_methyl = [int(i) for i in n_methylation_positions.split(',')]\n",
        "\n",
        "s = peptide_smiles(sequence,n_methyl,head_to_tail_cyclic)\n",
        "\n",
        "print(s)"
      ],
      "metadata": {
        "colab": {
          "base_uri": "https://localhost:8080/"
        },
        "cellView": "form",
        "id": "VzkKjR-t8QVK",
        "outputId": "4df4bd1c-2d81-4c54-ebc3-4b3f36897d99"
      },
      "execution_count": 14,
      "outputs": [
        {
          "output_type": "stream",
          "name": "stdout",
          "text": [
            "CN1C(C)C(=O)N(C)C(C(CC)C)C(=O)N(C)C(CC(C)C)C(=O)NC(CCCNC(=N)N)C1(=O)\n"
          ]
        }
      ]
    },
    {
      "cell_type": "code",
      "source": [
        "#@markdown you can double check your structure here:\n",
        "\n",
        "#@markdown [Draw SMILES](https://pubchem.ncbi.nlm.nih.gov//edit3/index.html)"
      ],
      "metadata": {
        "cellView": "form",
        "id": "DIMHz9TiArVy"
      },
      "execution_count": null,
      "outputs": []
    }
  ]
}